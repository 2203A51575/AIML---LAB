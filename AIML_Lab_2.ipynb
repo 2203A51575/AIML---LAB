{
  "nbformat": 4,
  "nbformat_minor": 0,
  "metadata": {
    "colab": {
      "provenance": [],
      "authorship_tag": "ABX9TyPrN4D1PfAD2vrM32EKTUD+",
      "include_colab_link": true
    },
    "kernelspec": {
      "name": "python3",
      "display_name": "Python 3"
    },
    "language_info": {
      "name": "python"
    }
  },
  "cells": [
    {
      "cell_type": "markdown",
      "metadata": {
        "id": "view-in-github",
        "colab_type": "text"
      },
      "source": [
        "<a href=\"https://colab.research.google.com/github/2203A51575/AIML---LAB/blob/main/AIML_Lab_2.ipynb\" target=\"_parent\"><img src=\"https://colab.research.google.com/assets/colab-badge.svg\" alt=\"Open In Colab\"/></a>"
      ]
    },
    {
      "cell_type": "markdown",
      "source": [
        "**Implementation of BFS**"
      ],
      "metadata": {
        "id": "5zGgmXh9B-uA"
      }
    },
    {
      "cell_type": "code",
      "execution_count": 1,
      "metadata": {
        "colab": {
          "base_uri": "https://localhost:8080/"
        },
        "id": "AX_bGefXBMEw",
        "outputId": "e6258353-b402-4988-8464-a3f557210cdb"
      },
      "outputs": [
        {
          "output_type": "stream",
          "name": "stdout",
          "text": [
            "{0: [1, 3], 1: [0, 2, 3], 2: [4, 1, 5], 3: [4, 0, 1], 4: [2, 3, 5], 5: [4, 2], 6: []}\n"
          ]
        }
      ],
      "source": [
        "import numpy as np\n",
        "from queue import Queue\n",
        "graph ={0:[1,3],1:[0,2,3],2:[4,1,5],3:[4,0,1],4:[2,3,5],5:[4,2],6:[]}\n",
        "print(graph)"
      ]
    },
    {
      "cell_type": "code",
      "source": [
        "def bfs(graph,source):\n",
        "  Q=Queue()\n",
        "  visited_vertices=set()\n",
        "  Q.put(source)\n",
        "  visited_vertices.update({0})\n",
        "  while not Q.empty():\n",
        "    vertex=Q.get()\n",
        "    print(vertex,end=\"-->\")\n",
        "    for u in graph[vertex]:\n",
        "      if u not in visited_vertices:\n",
        "        Q.put(u)\n",
        "        visited_vertices.update({u})\n",
        "\n",
        "print(\"bfs traversal of the graph source 0 is:\")\n",
        "bfs(graph,0)"
      ],
      "metadata": {
        "colab": {
          "base_uri": "https://localhost:8080/"
        },
        "id": "udK4j-fXBS6P",
        "outputId": "e5c15318-93b6-4922-d1fd-44e532ef2a59"
      },
      "execution_count": 2,
      "outputs": [
        {
          "output_type": "stream",
          "name": "stdout",
          "text": [
            "bfs traversal of the graph source 0 is:\n",
            "0-->1-->3-->2-->4-->5-->"
          ]
        }
      ]
    },
    {
      "cell_type": "code",
      "source": [
        "import numpy as np\n",
        "from queue import Queue\n",
        "Ammu={'A':['B','S'],'B':['A'],'C':['B','E','F','S'],'D':['C'],'E':['C','H'],'F':['C','G'],'G':['F','S','H'],'H':['E','G'],'S':['A','C','G']}\n",
        "print(Ammu)"
      ],
      "metadata": {
        "colab": {
          "base_uri": "https://localhost:8080/"
        },
        "id": "Jab9EZJ3BbmD",
        "outputId": "4588377f-fa5a-4444-acf3-b4395d676d7e"
      },
      "execution_count": 3,
      "outputs": [
        {
          "output_type": "stream",
          "name": "stdout",
          "text": [
            "{'A': ['B', 'S'], 'B': ['A'], 'C': ['B', 'E', 'F', 'S'], 'D': ['C'], 'E': ['C', 'H'], 'F': ['C', 'G'], 'G': ['F', 'S', 'H'], 'H': ['E', 'G'], 'S': ['A', 'C', 'G']}\n"
          ]
        }
      ]
    },
    {
      "cell_type": "code",
      "source": [
        "def dfs(Ammu,node,visited):\n",
        "      if node not in visited:\n",
        "        visited.append(node)\n",
        "        for k in Ammu[node]:\n",
        "          dfs(Ammu,k,visited)\n",
        "      return visited\n",
        "\n",
        "\n",
        "visited = dfs(Ammu,'D',[])\n",
        "print(visited)"
      ],
      "metadata": {
        "colab": {
          "base_uri": "https://localhost:8080/"
        },
        "id": "41uX2ZU1BiGk",
        "outputId": "992cdb85-a1b0-4e25-ffb3-738c847d867e"
      },
      "execution_count": 4,
      "outputs": [
        {
          "output_type": "stream",
          "name": "stdout",
          "text": [
            "['D', 'C', 'B', 'A', 'S', 'G', 'F', 'H', 'E']\n"
          ]
        }
      ]
    },
    {
      "cell_type": "code",
      "source": [
        "def dfs(Ammu,node,visited):\n",
        "      if node not in visited:\n",
        "        visited.append(node)\n",
        "        for k in Ammu[node]:\n",
        "          dfs(Ammu,k,visited)\n",
        "      return visited\n",
        "\n",
        "\n",
        "visited = dfs(Ammu,'A',[])\n",
        "print(visited)"
      ],
      "metadata": {
        "colab": {
          "base_uri": "https://localhost:8080/"
        },
        "id": "jmFnbvUcBraU",
        "outputId": "39580a73-c322-4416-ac00-f1723e0f5bd4"
      },
      "execution_count": 5,
      "outputs": [
        {
          "output_type": "stream",
          "name": "stdout",
          "text": [
            "['A', 'B', 'S', 'C', 'E', 'H', 'G', 'F']\n"
          ]
        }
      ]
    }
  ]
}